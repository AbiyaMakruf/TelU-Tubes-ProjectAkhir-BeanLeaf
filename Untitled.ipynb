{
 "cells": [
  {
   "cell_type": "code",
   "execution_count": 7,
   "id": "a3399bd6-9b39-426e-949b-94b4cf3460c3",
   "metadata": {},
   "outputs": [],
   "source": [
    "import importlib\n",
    "import pandas as pd"
   ]
  },
  {
   "cell_type": "code",
   "execution_count": 21,
   "id": "abe915f6-1286-4ed6-8549-94027b4c181d",
   "metadata": {},
   "outputs": [
    {
     "data": {
      "text/html": [
       "<div>\n",
       "<style scoped>\n",
       "    .dataframe tbody tr th:only-of-type {\n",
       "        vertical-align: middle;\n",
       "    }\n",
       "\n",
       "    .dataframe tbody tr th {\n",
       "        vertical-align: top;\n",
       "    }\n",
       "\n",
       "    .dataframe thead th {\n",
       "        text-align: right;\n",
       "    }\n",
       "</style>\n",
       "<table border=\"1\" class=\"dataframe\">\n",
       "  <thead>\n",
       "    <tr style=\"text-align: right;\">\n",
       "      <th></th>\n",
       "      <th>Model</th>\n",
       "      <th>Original Parameters</th>\n",
       "      <th>Modified Parameters</th>\n",
       "    </tr>\n",
       "  </thead>\n",
       "  <tbody>\n",
       "    <tr>\n",
       "      <th>0</th>\n",
       "      <td>EfficientNetV2B0</td>\n",
       "      <td>5919312</td>\n",
       "      <td>5919312</td>\n",
       "    </tr>\n",
       "    <tr>\n",
       "      <th>1</th>\n",
       "      <td>EfficientNetV2B1</td>\n",
       "      <td>6931124</td>\n",
       "      <td>795380</td>\n",
       "    </tr>\n",
       "    <tr>\n",
       "      <th>2</th>\n",
       "      <td>EfficientNetV2B2</td>\n",
       "      <td>8769374</td>\n",
       "      <td>8769374</td>\n",
       "    </tr>\n",
       "    <tr>\n",
       "      <th>3</th>\n",
       "      <td>EfficientNetV2B3</td>\n",
       "      <td>12930622</td>\n",
       "      <td>12930622</td>\n",
       "    </tr>\n",
       "  </tbody>\n",
       "</table>\n",
       "</div>"
      ],
      "text/plain": [
       "              Model  Original Parameters  Modified Parameters\n",
       "0  EfficientNetV2B0              5919312              5919312\n",
       "1  EfficientNetV2B1              6931124               795380\n",
       "2  EfficientNetV2B2              8769374              8769374\n",
       "3  EfficientNetV2B3             12930622             12930622"
      ]
     },
     "execution_count": 21,
     "metadata": {},
     "output_type": "execute_result"
    }
   ],
   "source": [
    "from keras.applications.efficientnet_v2 import (\n",
    "    EfficientNetV2B0,\n",
    "    EfficientNetV2B1,\n",
    "    EfficientNetV2B2,\n",
    "    EfficientNetV2B3,\n",
    ")\n",
    "# importlib.reload(importlib.import_module(efficientNet.efficientnet_v2_modifikasi))\n",
    "from efficientNet.efficientnet_v2_modifikasi import (\n",
    "    EfficientNetV2B0Modifikasi,\n",
    "    EfficientNetV2B1Modifikasi,\n",
    "    EfficientNetV2B2Modifikasi,\n",
    "    EfficientNetV2B3Modifikasi,\n",
    ")\n",
    "\n",
    "importlib.reload(importlib.import_module('efficientNet.efficientnet_v2_modifikasi'))\n",
    "\n",
    "\n",
    "# List model original dan modifikasi\n",
    "models = [\n",
    "    (\"EfficientNetV2B0\", EfficientNetV2B0, EfficientNetV2B0Modifikasi),\n",
    "    (\"EfficientNetV2B1\", EfficientNetV2B1, EfficientNetV2B1Modifikasi),\n",
    "    (\"EfficientNetV2B2\", EfficientNetV2B2, EfficientNetV2B2Modifikasi),\n",
    "    (\"EfficientNetV2B3\", EfficientNetV2B3, EfficientNetV2B3Modifikasi),\n",
    "]\n",
    "\n",
    "# Simpan hasil dalam list\n",
    "results = []\n",
    "\n",
    "# Iterasi melalui setiap model, hitung jumlah parameter\n",
    "for model_name, original_func, modified_func in models:\n",
    "    # Model original\n",
    "    model_original = original_func(include_top=False, weights=None)\n",
    "    param_original = model_original.count_params()\n",
    "\n",
    "    # Model modifikasi\n",
    "    model_modified = modified_func(include_top=False, weights=None)\n",
    "    param_modified = model_modified.count_params()\n",
    "\n",
    "    # Simpan hasil\n",
    "    results.append({\n",
    "        \"Model\": model_name,\n",
    "        \"Original Parameters\": param_original,\n",
    "        \"Modified Parameters\": param_modified,\n",
    "    })\n",
    "\n",
    "# Konversi hasil ke dalam DataFrame pandas\n",
    "df = pd.DataFrame(results)\n",
    "df"
   ]
  },
  {
   "cell_type": "code",
   "execution_count": 1,
   "id": "5d580a85-a7b9-46d7-9452-a6513711e0a2",
   "metadata": {},
   "outputs": [
    {
     "name": "stderr",
     "output_type": "stream",
     "text": [
      "2024-12-23 20:13:17.280036: E external/local_xla/xla/stream_executor/cuda/cuda_fft.cc:477] Unable to register cuFFT factory: Attempting to register factory for plugin cuFFT when one has already been registered\n",
      "WARNING: All log messages before absl::InitializeLog() is called are written to STDERR\n",
      "E0000 00:00:1734959597.300082    3719 cuda_dnn.cc:8310] Unable to register cuDNN factory: Attempting to register factory for plugin cuDNN when one has already been registered\n",
      "E0000 00:00:1734959597.305775    3719 cuda_blas.cc:1418] Unable to register cuBLAS factory: Attempting to register factory for plugin cuBLAS when one has already been registered\n",
      "2024-12-23 20:13:17.328922: I tensorflow/core/platform/cpu_feature_guard.cc:210] This TensorFlow binary is optimized to use available CPU instructions in performance-critical operations.\n",
      "To enable the following instructions: AVX2 FMA, in other operations, rebuild TensorFlow with the appropriate compiler flags.\n"
     ]
    }
   ],
   "source": [
    "from tensorflow.keras.applications import (\n",
    "    MobileNetV3Small,\n",
    "    MobileNetV3Large,\n",
    ")"
   ]
  },
  {
   "cell_type": "code",
   "execution_count": 12,
   "id": "18808b2f-e050-417c-b664-457a8adb017f",
   "metadata": {},
   "outputs": [
    {
     "name": "stdout",
     "output_type": "stream",
     "text": [
      "939.120\n"
     ]
    }
   ],
   "source": [
    "model = MobileNetV3Small(include_top=False,weights=None)\n",
    "\n",
    "print(f\"{model.count_params():,}\".replace(\",\", \".\"))"
   ]
  },
  {
   "cell_type": "code",
   "execution_count": 9,
   "id": "6f26eea1-58df-4456-b222-3814726f5914",
   "metadata": {},
   "outputs": [
    {
     "ename": "NameError",
     "evalue": "name 'build_model' is not defined",
     "output_type": "error",
     "traceback": [
      "\u001b[0;31m---------------------------------------------------------------------------\u001b[0m",
      "\u001b[0;31mNameError\u001b[0m                                 Traceback (most recent call last)",
      "Cell \u001b[0;32mIn[9], line 30\u001b[0m\n\u001b[1;32m     27\u001b[0m     layer\u001b[38;5;241m.\u001b[39mtrainable \u001b[38;5;241m=\u001b[39m \u001b[38;5;28;01mFalse\u001b[39;00m\n\u001b[1;32m     29\u001b[0m \u001b[38;5;66;03m# Build model\u001b[39;00m\n\u001b[0;32m---> 30\u001b[0m model \u001b[38;5;241m=\u001b[39m \u001b[43mbuild_model\u001b[49m(base_model, train_generator\u001b[38;5;241m.\u001b[39mnum_classes, dropout_rate)\n\u001b[1;32m     32\u001b[0m model\u001b[38;5;241m.\u001b[39mcount_params()\n",
      "\u001b[0;31mNameError\u001b[0m: name 'build_model' is not defined"
     ]
    }
   ],
   "source": [
    "# model_mapping = {\n",
    "#     \"MobileNetV3Small\": MobileNetV3Small,\n",
    "#     \"MobileNetV3Large\": MobileNetV3Large,\n",
    "#     \"EfficientNetV2B0\": EfficientNetV2B0,\n",
    "#     \"EfficientNetV2B1\": EfficientNetV2B1,\n",
    "#     \"EfficientNetV2B2\": EfficientNetV2B2,\n",
    "#     \"EfficientNetV2B3\": EfficientNetV2B3,\n",
    "#     \"EfficientNetV2S\": EfficientNetV2S,\n",
    "#     \"EfficientNetV2M\": EfficientNetV2M,\n",
    "#     \"EfficientNetV2L\": EfficientNetV2L,\n",
    "# }\n",
    "\n",
    "# # Validasi model_name\n",
    "# if model_name not in model_mapping:\n",
    "#     raise ValueError(f\"Unsupported model name: {model_name}\")\n",
    "\n",
    "# Inisialisasi model berdasarkan mapping\n",
    "base_model = MobileNetV3Small(input_shape=(224, 224, 3), \n",
    "                                       include_top=False, \n",
    "                                       weights='imagenet')\n",
    "\n",
    "# Mengatur layer trainable berdasarkan persentase\n",
    "trainable_layers = int(0.3 * len(base_model.layers))\n",
    "for layer in base_model.layers[:trainable_layers]:\n",
    "    layer.trainable = True\n",
    "for layer in base_model.layers[trainable_layers:]:\n",
    "    layer.trainable = False\n",
    "\n",
    "# Build model\n",
    "model = build_model(base_model, train_generator.num_classes, dropout_rate)\n",
    "\n",
    "model.count_params()"
   ]
  }
 ],
 "metadata": {
  "kernelspec": {
   "display_name": "Python 3 (ipykernel)",
   "language": "python",
   "name": "python3"
  },
  "language_info": {
   "codemirror_mode": {
    "name": "ipython",
    "version": 3
   },
   "file_extension": ".py",
   "mimetype": "text/x-python",
   "name": "python",
   "nbconvert_exporter": "python",
   "pygments_lexer": "ipython3",
   "version": "3.12.8"
  }
 },
 "nbformat": 4,
 "nbformat_minor": 5
}

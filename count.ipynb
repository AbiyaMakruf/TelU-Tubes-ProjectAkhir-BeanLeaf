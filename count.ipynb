{
 "cells": [
  {
   "cell_type": "code",
   "execution_count": 1,
   "id": "96b28042-20c5-4680-8571-632411eb0149",
   "metadata": {},
   "outputs": [
    {
     "name": "stdout",
     "output_type": "stream",
     "text": [
      "Folder: training\n",
      "  Class: bean_rust, Images: 314\n",
      "  Class: angular_leaf_spot, Images: 311\n",
      "  Class: healthy, Images: 307\n",
      "Folder: testing\n",
      "  Class: bean_rust, Images: 45\n",
      "  Class: angular_leaf_spot, Images: 44\n",
      "  Class: healthy, Images: 44\n",
      "Folder: validation\n",
      "  Class: bean_rust, Images: 34\n",
      "  Class: angular_leaf_spot, Images: 34\n",
      "  Class: healthy, Images: 34\n"
     ]
    }
   ],
   "source": [
    "import os\n",
    "\n",
    "def count_images_in_folders(dataset_path):\n",
    "    # Dictionary to store counts\n",
    "    counts = {}\n",
    "\n",
    "    # Iterate through the main folders (training, testing, validation)\n",
    "    for folder in [\"training\", \"testing\", \"validation\"]:\n",
    "        folder_path = os.path.join(dataset_path, folder)\n",
    "        \n",
    "        if not os.path.exists(folder_path):\n",
    "            print(f\"Folder '{folder}' not found in {dataset_path}\")\n",
    "            continue\n",
    "\n",
    "        class_counts = {}\n",
    "\n",
    "        # Iterate through each class folder\n",
    "        for class_name in os.listdir(folder_path):\n",
    "            class_path = os.path.join(folder_path, class_name)\n",
    "\n",
    "            if not os.path.isdir(class_path):\n",
    "                continue\n",
    "\n",
    "            # Count image files in the class folder\n",
    "            image_count = sum(\n",
    "                1 for file in os.listdir(class_path) \n",
    "                if file.lower().endswith((\".png\", \".jpg\", \".jpeg\", \".bmp\", \".tiff\"))\n",
    "            )\n",
    "            class_counts[class_name] = image_count\n",
    "\n",
    "        # Store the counts for the folder\n",
    "        counts[folder] = class_counts\n",
    "\n",
    "    return counts\n",
    "\n",
    "# Example usage\n",
    "dataset_path = \"datasets/\"\n",
    "image_counts = count_images_in_folders(dataset_path)\n",
    "\n",
    "# Print the results\n",
    "for folder, classes in image_counts.items():\n",
    "    print(f\"Folder: {folder}\")\n",
    "    for class_name, count in classes.items():\n",
    "        print(f\"  Class: {class_name}, Images: {count}\")"
   ]
  }
 ],
 "metadata": {
  "kernelspec": {
   "display_name": "Python 3 (ipykernel)",
   "language": "python",
   "name": "python3"
  },
  "language_info": {
   "codemirror_mode": {
    "name": "ipython",
    "version": 3
   },
   "file_extension": ".py",
   "mimetype": "text/x-python",
   "name": "python",
   "nbconvert_exporter": "python",
   "pygments_lexer": "ipython3",
   "version": "3.12.8"
  }
 },
 "nbformat": 4,
 "nbformat_minor": 5
}
